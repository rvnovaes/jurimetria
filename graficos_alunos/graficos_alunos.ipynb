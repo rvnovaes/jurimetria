{
 "cells": [
  {
   "cell_type": "markdown",
   "metadata": {},
   "source": [
    "# Estatística Descritiva Básica"
   ]
  },
  {
   "cell_type": "markdown",
   "metadata": {},
   "source": [
    "Nesse notebook iremos plotar os dados coletados dos alunos da sala para demonstrar:\n",
    "1. O próprio ambiente, composto por Jupyter e Matplotlib\n",
    "2. O formato de dados CSV\n",
    "3. Alguns gráficos interessantes"
   ]
  },
  {
   "cell_type": "markdown",
   "metadata": {},
   "source": [
    "Vejamos o conjunto de dados (dataset):\n",
    "\n",
    "| nome  | idade | peso | sexo | curso           | origem          | \n",
    "|-------|-------|------|------|-----------------|-----------------| \n",
    "| TCO   | 28    | 86,1 | M    | Direito         | UFMG            | \n",
    "| GBTV  | 20    | 71   | M    | Direito         | UFMG            | \n",
    "| AO    | 18    | 99,5 | M    | Direito         | UFMG            | \n",
    "| RC    | 26    | 81   | M    | Direito         | UFMG            | \n",
    "| DSV   | 19    | 82   | M    | Direito         | UFMG            | \n",
    "| JLFN  | 22    | 80   | M    | Direito         | UFMG            | \n",
    "| GVM   | 30    | 62   | M    | Direito         | UFMG            | \n",
    "| GSSB  | 20    | 80   | M    | CE              | UFMG            | \n",
    "| GDM   | 20    | 60   | F    | Direito         | UFMG            | \n",
    "| GS    | 22    | 107  | M    | Direito         | UFMG            | \n",
    "| OFN   | 19    | 75   | M    | Direito         | UFMG            | \n",
    "| IMG   | 21    | 60,8 | F    | Direito         | UFMG            | \n",
    "| BFG   | 29    | 65,1 | F    | Direito         | público externo | \n",
    "| HFMG  | 37    | 52   | F    | Educação Física | público externo | \n",
    "| AFP   | 21    | 115  | F    | Direito         | UFMG            | \n",
    "| AGM   | 20    | 70   | M    | Direito         | UFMG            | \n",
    "| EDC   | 22    | 95   | M    | Direito         | UFMG            | \n",
    "| MFSS  | 21    | 56   | M    | Direito         | UFMG            | \n",
    "| RCO   | 27    | 70,5 | M    | Direito         | UFMG            | \n",
    "| RCVN  | 45    | 75   | F    | Direito         | público externo | \n",
    "| KCOS  | 38    | 60   | F    | Direito         | público externo | \n",
    "| VMTFC | 22    | 81   | F    | Direito         | UFMG            | \n",
    "| RASF  | 21    | 61   | M    | Direito         | UFMG            | \n",
    "\n",
    "Nese \n"
   ]
  }
 ],
 "metadata": {
  "kernelspec": {
   "display_name": "Python 3",
   "language": "python",
   "name": "python3"
  },
  "language_info": {
   "codemirror_mode": {
    "name": "ipython",
    "version": 3
   },
   "file_extension": ".py",
   "mimetype": "text/x-python",
   "name": "python",
   "nbconvert_exporter": "python",
   "pygments_lexer": "ipython3",
   "version": "3.5.2"
  }
 },
 "nbformat": 4,
 "nbformat_minor": 2
}
