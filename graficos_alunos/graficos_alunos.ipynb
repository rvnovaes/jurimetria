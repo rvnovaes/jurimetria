{
 "cells": [
  {
   "cell_type": "markdown",
   "metadata": {},
   "source": [
    "# Estatística Descritiva Básica"
   ]
  },
  {
   "cell_type": "markdown",
   "metadata": {},
   "source": [
    "Nesse notebook iremos plotar os dados coletados dos alunos da sala para demonstrar:\n",
    "1. O próprio ambiente, composto por Jupyter e Matplotlib\n",
    "2. O formato de dados CSV\n",
    "3. Alguns gráficos interessantes"
   ]
  },
  {
   "cell_type": "markdown",
   "metadata": {},
   "source": [
    "Vejamos o conjunto de dados (dataset):\n",
    "\n",
    "| nome  | idade | peso | sexo | curso           | origem          | \n",
    "|-------|-------|------|------|-----------------|-----------------| \n",
    "| TCO   | 28    | 86,1 | M    | Direito         | UFMG            | \n",
    "| GBTV  | 20    | 71   | M    | Direito         | UFMG            | \n",
    "| AO    | 18    | 99,5 | M    | Direito         | UFMG            | \n",
    "| RC    | 26    | 81   | M    | Direito         | UFMG            | \n",
    "| DSV   | 19    | 82   | M    | Direito         | UFMG            | \n",
    "| JLFN  | 22    | 80   | M    | Direito         | UFMG            | \n",
    "| GVM   | 30    | 62   | M    | Direito         | UFMG            | \n",
    "| GSSB  | 20    | 80   | M    | CE              | UFMG            | \n",
    "| GDM   | 20    | 60   | F    | Direito         | UFMG            | \n",
    "| GS    | 22    | 107  | M    | Direito         | UFMG            | \n",
    "| OFN   | 19    | 75   | M    | Direito         | UFMG            | \n",
    "| IMG   | 21    | 60,8 | F    | Direito         | UFMG            | \n",
    "| BFG   | 29    | 65,1 | F    | Direito         | público externo | \n",
    "| HFMG  | 37    | 52   | F    | Educação Física | público externo | \n",
    "| AFP   | 21    | 115  | F    | Direito         | UFMG            | \n",
    "| AGM   | 20    | 70   | M    | Direito         | UFMG            | \n",
    "| EDC   | 22    | 95   | M    | Direito         | UFMG            | \n",
    "| MFSS  | 21    | 56   | M    | Direito         | UFMG            | \n",
    "| RCO   | 27    | 70,5 | M    | Direito         | UFMG            | \n",
    "| RCVN  | 45    | 75   | F    | Direito         | público externo | \n",
    "| KCOS  | 38    | 60   | F    | Direito         | público externo | \n",
    "| VMTFC | 22    | 81   | F    | Direito         | UFMG            | \n",
    "| RASF  | 21    | 61   | M    | Direito         | UFMG            | \n"
   ]
  },
  {
   "cell_type": "markdown",
   "metadata": {},
   "source": [
    "Em formato CSV:\n",
    "\n",
    "nome;idade;peso;sexo;curso;origem\n",
    "TCO;28;86,1;M;Direito;UFMG\n",
    "GBTV;20;71;M;Direito;UFMG\n",
    "AO;18;99,5;M;Direito;UFMG\n",
    "RC;26;81;M;Direito;UFMG\n",
    "DSV;19;82;M;Direito;UFMG\n",
    "JLFN;22;80;M;Direito;UFMG\n",
    "GVM;30;62;M;Direito;UFMG\n",
    "GSSB;20;80;M;CE;UFMG\n",
    "GDM;20;60;F;Direito;UFMG\n",
    "GS;22;107;M;Direito;UFMG\n",
    "OFN;19;75;M;Direito;UFMG\n",
    "IMG;21;60,8;F;Direito;UFMG\n",
    "BFG;29;65,1;F;Direito;público externo\n",
    "HFMG;37;52;F;Educação Física;público externo\n",
    "AFP;21;115;F;Direito;UFMG\n",
    "AGM;20;70;M;Direito;UFMG\n",
    "EDC;22;95;M;Direito;UFMG\n",
    "MFSS;21;56;M;Direito;UFMG\n",
    "RCO;27;70,5;M;Direito;UFMG\n",
    "RCVN;45;75;F;Direito;público externo\n",
    "KCOS;38;60;F;Direito;público externo\n",
    "VMTFC;22;81;F;Direito;UFMG\n",
    "RASF;21;61;M;Direito;UFMG\n",
    "\n",
    "CSV significa *[comma-separated values]*(https://en.wikipedia.org/wiki/Comma-separated_values) ou valores separados por vígula. Trata-se de um formato simples e muito utilizado para armazenamento e troca de dados. No exemplo usado acima, optamos por separar as colunas usando ponto e vírgula (*semicolon*) uma vez que temos uma coluna na qual a vírgula faz parte do próprio valor (Peso). O computador não sabe diferenciar se a vírgula participa compõe o valor ou se é um separador de coluna.\n",
    "\n",
    "Um arquivo CSV pode ser facilmente importado em qualque programa de Planilhas (LibreOffice Calc, e.g., ou outros concorrentes comerciais).\n",
    "\n",
    "Esse formato pode, também, ser manipulado nativamente em Python, como veremos a seguir."
   ]
  },
  {
   "cell_type": "code",
   "execution_count": 14,
   "metadata": {},
   "outputs": [
    {
     "name": "stdout",
     "output_type": "stream",
     "text": [
      "[28.0, 20.0, 18.0, 26.0, 19.0, 22.0, 30.0, 20.0, 20.0, 22.0, 19.0, 21.0, 29.0, 37.0, 21.0, 20.0, 22.0, 21.0, 27.0, 45.0, 38.0, 22.0, 21.0]\n",
      "[86.1, 71.0, 99.5, 81.0, 82.0, 80.0, 62.0, 80.0, 60.0, 107.0, 75.0, 60.8, 65.1, 52.0, 115.0, 70.0, 95.0, 56.0, 70.5, 75.0, 60.0, 81.0, 61.0]\n"
     ]
    }
   ],
   "source": [
    "import csv\n",
    " \n",
    "csv.register_dialect('jurimetria', delimiter=';', quoting=csv.QUOTE_NONE)\n",
    "csv_file = 'dados_alunos.csv'\n",
    "\n",
    "with open(csv_file) as csv_file:\n",
    "    dr = csv.DictReader(csv_file, dialect='jurimetria')\n",
    "    idades = list()\n",
    "    pesos = list()\n",
    "    for row in dr:\n",
    "        idades.append(float(row['idade']))\n",
    "        peso = row['peso'].replace(',', '.')\n",
    "        pesos.append(float(peso))\n",
    "        \n",
    "print(idades)\n",
    "print(pesos)"
   ]
  },
  {
   "cell_type": "code",
   "execution_count": 15,
   "metadata": {},
   "outputs": [
    {
     "name": "stdout",
     "output_type": "stream",
     "text": [
      "24.695652173913043\n"
     ]
    }
   ],
   "source": [
    "idade_media = sum(idades) / len(idades)\n",
    "print(idade_media)"
   ]
  },
  {
   "cell_type": "code",
   "execution_count": 5,
   "metadata": {},
   "outputs": [],
   "source": [
    "# This line configures matplotlib to show figures embedded in the notebook, \n",
    "# instead of opening a new window for each figure. More about that later. \n",
    "# If you are using an old version of IPython, try using '%pylab inline' instead.\n",
    "%matplotlib inline"
   ]
  },
  {
   "cell_type": "code",
   "execution_count": 8,
   "metadata": {},
   "outputs": [
    {
     "data": {
      "image/png": "[encoded data removed]",
      "text/plain": [
       "<Figure size 432x288 with 1 Axes>"
      ]
     },
     "metadata": {},
     "output_type": "display_data"
    }
   ],
   "source": [
    "import csv\n",
    "import matplotlib.pyplot as plt\n",
    " \n",
    "csv.register_dialect('jurimetria', delimiter=';', quoting=csv.QUOTE_NONE)\n",
    "\n",
    "csv_file = 'dados_alunos.csv'\n",
    "\n",
    "with open(csv_file) as csv_file:\n",
    "    dr = csv.DictReader(csv_file, dialect='jurimetria')\n",
    "    direito = 0\n",
    "    CE = 0\n",
    "    educacao_fisica = 0\n",
    "    \n",
    "    for row in dr:\n",
    "        if row['curso'] == 'Direito': direito += 1\n",
    "        if row['curso'] == 'CE': CE += 1\n",
    "        if row['curso'] == 'Educação Física': educacao_fisica += 1\n",
    "    \n",
    "    \n",
    "    # Data to plot\n",
    "labels = 'Direito', 'CE', 'Educação Física'\n",
    "sizes = [direito, CE, educacao_fisica]\n",
    "colors = ['gold', 'red', 'lightcoral']\n",
    "explode = (0, 0.1, 0.3)  # explode last slice\n",
    " \n",
    "# Plot\n",
    "plt.pie(sizes, explode=explode, labels=labels, colors=colors,\n",
    "        autopct='%1.1f%%', shadow=True, startangle=140)\n",
    "plt.axis('equal')\n",
    "plt.show()\n",
    "\n",
    "\n",
    "    \n",
    "    \n",
    "    "
   ]
  },
  {
   "cell_type": "code",
   "execution_count": 4,
   "metadata": {},
   "outputs": [],
   "source": []
  }
 ],
 "metadata": {
  "kernelspec": {
   "display_name": "Python 3",
   "language": "python",
   "name": "python3"
  },
  "language_info": {
   "codemirror_mode": {
    "name": "ipython",
    "version": 3
   },
   "file_extension": ".py",
   "mimetype": "text/x-python",
   "name": "python",
   "nbconvert_exporter": "python",
   "pygments_lexer": "ipython3",
   "version": "3.5.2"
  }
 },
 "nbformat": 4,
 "nbformat_minor": 2
}
